{
 "cells": [
  {
   "cell_type": "code",
   "execution_count": 6,
   "id": "e92c4c10",
   "metadata": {},
   "outputs": [],
   "source": [
    "import pandas as pd\n",
    "import re"
   ]
  },
  {
   "cell_type": "code",
   "execution_count": 2,
   "id": "c089abdf",
   "metadata": {},
   "outputs": [],
   "source": [
    "\n",
    "# Caminho do arquivo CSV\n",
    "arquivo_csv = 'data/Sabrina_Estimulo_ICE_2025-05-12_23h31.51.954.csv'\n",
    "\n",
    "# Carregar os dados do CSV\n",
    "dados = pd.read_csv(arquivo_csv)"
   ]
  },
  {
   "cell_type": "code",
   "execution_count": 7,
   "id": "17c0c974",
   "metadata": {},
   "outputs": [
    {
     "name": "stdout",
     "output_type": "stream",
     "text": [
      "   key_resp_2.keys          key_resp_2.rt    key_resp_2.duration  \\\n",
      "3            ['1']   [1.6323042998556048]  [0.07099579996429384]   \n",
      "19        ['down']  [0.17767020012252033]   [0.1050383998081088]   \n",
      "43             NaN                    NaN                    NaN   \n",
      "76          ['up']  [0.24163750000298023]   [0.1050553999375552]   \n",
      "92             NaN                    NaN                    NaN   \n",
      "\n",
      "   key_resp_3.keys          key_resp_3.rt    key_resp_3.duration  \\\n",
      "3              NaN                    NaN                    NaN   \n",
      "19             NaN                    NaN                    NaN   \n",
      "43          ['up']  [0.02995659993030131]  [0.08531070011667907]   \n",
      "76             NaN                    NaN                    NaN   \n",
      "92       ['right']  [0.05665330006740987]   [0.1430303999222815]   \n",
      "\n",
      "    key_resp_2.started  key_resp_3.started  key_resp_3.stopped  \\\n",
      "3             4.413410            4.728664                 NaN   \n",
      "19           13.988060           14.305779                 NaN   \n",
      "43           29.291504           29.589947           29.881833   \n",
      "76           50.000178           50.361363                 NaN   \n",
      "92           59.605138           59.903749           60.199778   \n",
      "\n",
      "    key_resp_2.stopped  px1  px2  px3  px4  py1  py2  py3  py4  \n",
      "3                  NaN  4.4 -4.4  4.4 -4.4  2.2 -2.2 -2.2  2.2  \n",
      "19                 NaN  2.8 -2.8  2.8 -2.8  2.2 -2.2 -2.2  2.2  \n",
      "43           29.582992  2.2 -2.2 -2.2  2.2  3.9 -3.9  3.9 -3.9  \n",
      "76                 NaN  2.2 -2.2 -2.2  2.2  1.4 -1.4  1.4 -1.4  \n",
      "92           59.903749  2.2 -2.2 -2.2  2.2  3.0 -3.0  3.0 -3.0  \n"
     ]
    }
   ],
   "source": [
    "# Identificar as colunas que começam com 'key_resp_' usando expressão regular\n",
    "colunas_relevantes = [col for col in dados.columns if re.match(r'key_resp_\\d+', col)]\n",
    "\n",
    "# Adicionar as colunas de posição (px e py) à lista de relevantes\n",
    "colunas_relevantes.extend([ 'px1', 'px2', 'px3', 'px4', 'py1', 'py2', 'py3', 'py4'])\n",
    "\n",
    "# Selecionar apenas as colunas relevantes\n",
    "dados_relevantes = dados[colunas_relevantes]\n",
    "\n",
    "# Filtrar os dados onde as teclas foram pressionadas (onde as colunas de 'keys' não são NaN)\n",
    "dados_teclas = dados_relevantes[dados_relevantes.apply(lambda row: row.str.contains(r'\\S').any(), axis=1)]\n",
    "\n",
    "# Exibir os dados formatados\n",
    "print(dados_teclas)"
   ]
  }
 ],
 "metadata": {
  "kernelspec": {
   "display_name": "Python 3",
   "language": "python",
   "name": "python3"
  },
  "language_info": {
   "codemirror_mode": {
    "name": "ipython",
    "version": 3
   },
   "file_extension": ".py",
   "mimetype": "text/x-python",
   "name": "python",
   "nbconvert_exporter": "python",
   "pygments_lexer": "ipython3",
   "version": "3.12.8"
  }
 },
 "nbformat": 4,
 "nbformat_minor": 5
}
